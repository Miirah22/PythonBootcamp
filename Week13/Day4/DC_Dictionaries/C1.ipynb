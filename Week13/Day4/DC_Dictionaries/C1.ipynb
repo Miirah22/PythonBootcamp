{
 "cells": [
  {
   "cell_type": "code",
   "execution_count": 1,
   "metadata": {},
   "outputs": [
    {
     "name": "stdout",
     "output_type": "stream",
     "text": [
      "pineapple\n",
      "{'p': [0, 5, 6], 'i': [1], 'n': [2], 'e': [3, 8], 'a': [4], 'l': [7]}\n"
     ]
    }
   ],
   "source": [
    "resultdict = {}\n",
    "\n",
    "def dict():\n",
    "    word = input(\"Enter a word : \")\n",
    "    i = 0\n",
    "    for letter in word:\n",
    "        if letter in resultdict:\n",
    "            resultdict[letter].append(i)\n",
    "        else:\n",
    "            resultdict[letter] = [i]\n",
    "        i += 1\n",
    "    \n",
    "    print(word)\n",
    "    print(resultdict)\n",
    "\n",
    "dict()"
   ]
  }
 ],
 "metadata": {
  "kernelspec": {
   "display_name": "Python 3",
   "language": "python",
   "name": "python3"
  },
  "language_info": {
   "codemirror_mode": {
    "name": "ipython",
    "version": 3
   },
   "file_extension": ".py",
   "mimetype": "text/x-python",
   "name": "python",
   "nbconvert_exporter": "python",
   "pygments_lexer": "ipython3",
   "version": "3.12.2"
  }
 },
 "nbformat": 4,
 "nbformat_minor": 2
}
