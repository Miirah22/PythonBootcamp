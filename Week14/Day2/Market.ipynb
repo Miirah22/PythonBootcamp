{
 "cells": [
  {
   "cell_type": "code",
   "execution_count": 1,
   "metadata": {},
   "outputs": [
    {
     "name": "stdout",
     "output_type": "stream",
     "text": [
      "McDonald's farm\n"
     ]
    },
    {
     "ename": "KeyError",
     "evalue": "'cow'",
     "output_type": "error",
     "traceback": [
      "\u001b[1;31m---------------------------------------------------------------------------\u001b[0m",
      "\u001b[1;31mKeyError\u001b[0m                                  Traceback (most recent call last)",
      "Cell \u001b[1;32mIn[1], line 20\u001b[0m\n\u001b[0;32m     17\u001b[0m         \u001b[38;5;28mprint\u001b[39m(\u001b[38;5;124m\"\u001b[39m\u001b[38;5;124mE-I-E-I-0!\u001b[39m\u001b[38;5;124m\"\u001b[39m)\n\u001b[0;32m     19\u001b[0m macdonald \u001b[38;5;241m=\u001b[39m Farm(\u001b[38;5;124m\"\u001b[39m\u001b[38;5;124mMcDonald\u001b[39m\u001b[38;5;124m\"\u001b[39m)\n\u001b[1;32m---> 20\u001b[0m \u001b[43mmacdonald\u001b[49m\u001b[38;5;241;43m.\u001b[39;49m\u001b[43madd_animal\u001b[49m\u001b[43m(\u001b[49m\u001b[38;5;124;43m'\u001b[39;49m\u001b[38;5;124;43mcow\u001b[39;49m\u001b[38;5;124;43m'\u001b[39;49m\u001b[43m,\u001b[49m\u001b[38;5;241;43m5\u001b[39;49m\u001b[43m)\u001b[49m\n\u001b[0;32m     21\u001b[0m macdonald\u001b[38;5;241m.\u001b[39madd_animal(\u001b[38;5;124m'\u001b[39m\u001b[38;5;124msheep\u001b[39m\u001b[38;5;124m'\u001b[39m,\u001b[38;5;241m1\u001b[39m)\n\u001b[0;32m     22\u001b[0m macdonald\u001b[38;5;241m.\u001b[39madd_animal(\u001b[38;5;124m'\u001b[39m\u001b[38;5;124msheep\u001b[39m\u001b[38;5;124m'\u001b[39m,\u001b[38;5;241m1\u001b[39m)\n",
      "Cell \u001b[1;32mIn[1], line 11\u001b[0m, in \u001b[0;36mFarm.add_animal\u001b[1;34m(self, animal, qty)\u001b[0m\n\u001b[0;32m      9\u001b[0m     \u001b[38;5;28mself\u001b[39m\u001b[38;5;241m.\u001b[39manimals[animal] \u001b[38;5;241m+\u001b[39m\u001b[38;5;241m=\u001b[39m qty\n\u001b[0;32m     10\u001b[0m \u001b[38;5;28;01melse\u001b[39;00m:\n\u001b[1;32m---> 11\u001b[0m     \u001b[38;5;28;43mself\u001b[39;49m\u001b[38;5;241;43m.\u001b[39;49m\u001b[43manimals\u001b[49m\u001b[43m[\u001b[49m\u001b[43manimal\u001b[49m\u001b[43m]\u001b[49m \u001b[38;5;241m+\u001b[39m\u001b[38;5;241m=\u001b[39m qty\n\u001b[0;32m     13\u001b[0m \u001b[38;5;28mself\u001b[39m\u001b[38;5;241m.\u001b[39manimal\n\u001b[0;32m     14\u001b[0m \u001b[38;5;28mprint\u001b[39m(\u001b[38;5;124mf\u001b[39m\u001b[38;5;124m\"\u001b[39m\u001b[38;5;132;01m{\u001b[39;00manimal\u001b[38;5;132;01m}\u001b[39;00m\u001b[38;5;124m : \u001b[39m\u001b[38;5;132;01m{\u001b[39;00mqty\u001b[38;5;132;01m}\u001b[39;00m\u001b[38;5;124m\"\u001b[39m)\n",
      "\u001b[1;31mKeyError\u001b[0m: 'cow'"
     ]
    }
   ],
   "source": [
    "class Farm:\n",
    "    def __init__(self, name):\n",
    "        self.name = name\n",
    "        self.animals={}\n",
    "        print(f\"{self.name}'s farm\")\n",
    "\n",
    "    def add_animal(self, animal, qty):\n",
    "        if animal in self.animals:\n",
    "            self.animals[animal] += qty\n",
    "        else:\n",
    "            self.animals[animal] += qty\n",
    "            \n",
    "        self.animal\n",
    "        print(f\"{animal} : {qty}\")\n",
    "\n",
    "    def get_info(self):\n",
    "        print(\"E-I-E-I-0!\")\n",
    "\n",
    "macdonald = Farm(\"McDonald\")\n",
    "macdonald.add_animal('cow',5)\n",
    "macdonald.add_animal('sheep',1)\n",
    "macdonald.add_animal('sheep',1)\n",
    "macdonald.add_animal('goat', 12)\n",
    "print(macdonald.get_info())"
   ]
  }
 ],
 "metadata": {
  "kernelspec": {
   "display_name": "Python 3",
   "language": "python",
   "name": "python3"
  },
  "language_info": {
   "codemirror_mode": {
    "name": "ipython",
    "version": 3
   },
   "file_extension": ".py",
   "mimetype": "text/x-python",
   "name": "python",
   "nbconvert_exporter": "python",
   "pygments_lexer": "ipython3",
   "version": "3.12.2"
  }
 },
 "nbformat": 4,
 "nbformat_minor": 2
}
