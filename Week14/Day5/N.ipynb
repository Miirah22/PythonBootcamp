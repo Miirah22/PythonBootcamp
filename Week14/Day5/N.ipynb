{
 "cells": [
  {
   "cell_type": "code",
   "execution_count": 1,
   "metadata": {},
   "outputs": [
    {
     "name": "stdout",
     "output_type": "stream",
     "text": [
      "Error\n",
      "Error\n",
      "Error\n",
      "Error\n",
      "Error\n"
     ]
    }
   ],
   "source": [
    "class Card:\n",
    "    def __init__(self, x, y):\n",
    "        self.suit=x\n",
    "        self.value=y\n",
    "class Deck:\n",
    "    def __init__(self):\n",
    "        self.cards=[]\n",
    "    def populate_deck(self):\n",
    "        self.cards=[]\n",
    "        for suit in ['hearts', 'diamonds', 'clubs', 'spades']:\n",
    "            for value in ['A','2','3','4','5','6','7','8','9','10','J','Q','K']:\n",
    "                card=Card(suit,value)\n",
    "                self.cards.append(card)\n",
    "    def shuffle_deck(self):\n",
    "        random.shuffle(self.cards)\n",
    "    def deal_card(self):\n",
    "        return self.cards.pop()\n",
    "def main():\n",
    "    deck=Deck()\n",
    "    deck.populate_deck()\n",
    "    deck.shuffle_deck()\n",
    "    for i in range(50):\n",
    "        card=deck.deal_card()\n",
    "        print(f\"Card {i}: {card.suit} {card.value}\")\n",
    "if __name__ == \"__main__\":\n",
    "    for i in range(5):\n",
    "        try:\n",
    "            main()\n",
    "        except:\n",
    "            print(\"Error\")\n",
    "\n",
    "\n"
   ]
  }
 ],
 "metadata": {
  "kernelspec": {
   "display_name": "Python 3",
   "language": "python",
   "name": "python3"
  },
  "language_info": {
   "codemirror_mode": {
    "name": "ipython",
    "version": 3
   },
   "file_extension": ".py",
   "mimetype": "text/x-python",
   "name": "python",
   "nbconvert_exporter": "python",
   "pygments_lexer": "ipython3",
   "version": "3.12.2"
  }
 },
 "nbformat": 4,
 "nbformat_minor": 2
}
