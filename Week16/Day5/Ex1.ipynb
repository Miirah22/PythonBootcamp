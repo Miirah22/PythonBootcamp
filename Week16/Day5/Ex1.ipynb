{
 "cells": [
  {
   "cell_type": "code",
   "execution_count": 1,
   "metadata": {},
   "outputs": [
    {
     "name": "stdout",
     "output_type": "stream",
     "text": [
      "[ 2  4  6  8 10]\n"
     ]
    }
   ],
   "source": [
    "import numpy as np\n",
    "\n",
    "# Create a NumPy array\n",
    "array = np.array([1, 2, 3, 4, 5])\n",
    "\n",
    "# Perform an operation on the array\n",
    "double = array * 2\n",
    "\n",
    "print(double)  # Outputs: array([2, 4, 6, 8, 10])"
   ]
  },
  {
   "cell_type": "code",
   "execution_count": 2,
   "metadata": {},
   "outputs": [
    {
     "name": "stdout",
     "output_type": "stream",
     "text": [
      "[1 2 3]\n"
     ]
    }
   ],
   "source": [
    "# Creating an array in NumPy\n",
    "array = np.array([1, 2, 3])\n",
    "print(array)"
   ]
  },
  {
   "cell_type": "code",
   "execution_count": 3,
   "metadata": {},
   "outputs": [
    {
     "name": "stdout",
     "output_type": "stream",
     "text": [
      "1\n",
      "(5,)\n",
      "5\n",
      "int32\n"
     ]
    }
   ],
   "source": [
    "import numpy as np\n",
    "\n",
    "# Create a 1D NumPy array\n",
    "array_1d = np.array([1, 2, 3, 4, 5])\n",
    "\n",
    "# Check properties of the array\n",
    "print(array_1d.ndim)  # Output: 1\n",
    "print(array_1d.shape)  # Output: (5,)\n",
    "print(array_1d.size)  # Output: 5\n",
    "print(array_1d.dtype)  # Output: int64"
   ]
  },
  {
   "cell_type": "code",
   "execution_count": 4,
   "metadata": {},
   "outputs": [
    {
     "name": "stdout",
     "output_type": "stream",
     "text": [
      "[[1 2 3]\n",
      " [4 5 6]]\n",
      "[[0. 0.]\n",
      " [0. 0.]\n",
      " [0. 0.]]\n"
     ]
    }
   ],
   "source": [
    "# Create a 2D array from a list of lists\n",
    "array_2d = np.array([[1, 2, 3], [4, 5, 6]])\n",
    "print(array_2d)\n",
    "# Output: \n",
    "# [[1 2 3]\n",
    "#  [4 5 6]]\n",
    "\n",
    "# Create a 2D array of zeros with shape (3, 2)\n",
    "zeros = np.zeros((3, 2))\n",
    "print(zeros)\n",
    "# Output: \n",
    "# [[0. 0.]\n",
    "#  [0. 0.]\n",
    "#  [0. 0.]]"
   ]
  },
  {
   "cell_type": "code",
   "execution_count": 5,
   "metadata": {},
   "outputs": [
    {
     "name": "stdout",
     "output_type": "stream",
     "text": [
      "float64\n"
     ]
    }
   ],
   "source": [
    "# Create a float type array\n",
    "float_array = np.array([1.0, 2.0, 3.0])\n",
    "print(float_array.dtype)  # Output: float64"
   ]
  },
  {
   "cell_type": "code",
   "execution_count": 7,
   "metadata": {},
   "outputs": [
    {
     "name": "stdout",
     "output_type": "stream",
     "text": [
      "[[0. 0. 0. 0. 0.]\n",
      " [0. 0. 0. 0. 0.]\n",
      " [0. 0. 0. 0. 0.]\n",
      " [0. 0. 0. 0. 0.]\n",
      " [0. 0. 0. 0. 0.]]\n",
      "[[1. 1. 1. 1. 1.]\n",
      " [1. 1. 1. 1. 1.]\n",
      " [1. 1. 1. 1. 1.]\n",
      " [1. 1. 1. 1. 1.]\n",
      " [1. 1. 1. 1. 1.]]\n"
     ]
    }
   ],
   "source": [
    "initialised_array = np.zeros((5,5))\n",
    "print(initialised_array)\n",
    "\n",
    "initialised_array1 = np.ones((5,5))\n",
    "print(initialised_array1)"
   ]
  },
  {
   "cell_type": "code",
   "execution_count": 8,
   "metadata": {},
   "outputs": [
    {
     "name": "stdout",
     "output_type": "stream",
     "text": [
      "[[50 40 30]\n",
      " [ 2  3  5]\n",
      " [77 55 33]]\n",
      "[[ 3  5]\n",
      " [55 33]]\n"
     ]
    }
   ],
   "source": [
    "data_2d = np.array([[50,40,30],[2,3,5],[77,55,33]])\n",
    "print(data_2d)\n",
    "sliced_array=data_2d[1:,1:]\n",
    "print(sliced_array)"
   ]
  },
  {
   "cell_type": "code",
   "execution_count": 9,
   "metadata": {},
   "outputs": [
    {
     "name": "stdout",
     "output_type": "stream",
     "text": [
      "[0 1 2 3 4 5 6 7 8 9]\n",
      "[10 11 12 13 14 15 16 17 18 19 20]\n",
      "[ 0  2  4  6  8 10]\n"
     ]
    }
   ],
   "source": [
    "ids=np.arange(10)\n",
    "print(ids)\n",
    "\n",
    "ids=np.arange(10,21)\n",
    "print(ids)\n",
    "\n",
    "ids=np.arange(0,11,2)\n",
    "print(ids)"
   ]
  },
  {
   "cell_type": "code",
   "execution_count": 10,
   "metadata": {},
   "outputs": [
    {
     "name": "stdout",
     "output_type": "stream",
     "text": [
      "[ 0.  5. 10. 15. 20. 25. 30. 35. 40.]\n"
     ]
    }
   ],
   "source": [
    "loto=np.linspace(0,40,9)\n",
    "print(loto)"
   ]
  },
  {
   "cell_type": "code",
   "execution_count": 11,
   "metadata": {},
   "outputs": [
    {
     "name": "stdout",
     "output_type": "stream",
     "text": [
      "[[[0.34836408 0.53676542 0.93854639 0.42623612 0.77938409]\n",
      "  [0.27283774 0.69719332 0.49145246 0.04403493 0.01170109]\n",
      "  [0.17272835 0.95003104 0.12897273 0.18027836 0.94456684]\n",
      "  [0.32931702 0.04227373 0.21242079 0.55768209 0.47771929]\n",
      "  [0.49855046 0.91572754 0.64407559 0.75058256 0.61846818]\n",
      "  [0.47660626 0.92551301 0.2710557  0.22317629 0.09129941]\n",
      "  [0.25557605 0.74129867 0.29610895 0.30220228 0.26875315]\n",
      "  [0.47251118 0.3432803  0.22106734 0.3276193  0.87962669]\n",
      "  [0.61899351 0.83699075 0.86867883 0.72027001 0.43923998]\n",
      "  [0.47309225 0.39291553 0.57620316 0.43757244 0.28243986]]]\n"
     ]
    }
   ],
   "source": [
    "random=np.random.rand(1,10,5)\n",
    "print(random)"
   ]
  },
  {
   "cell_type": "code",
   "execution_count": 12,
   "metadata": {},
   "outputs": [
    {
     "name": "stdout",
     "output_type": "stream",
     "text": [
      "[[0. 0. 0.]\n",
      " [0. 0. 0.]]\n",
      "[[0. 0.]\n",
      " [0. 0.]\n",
      " [0. 0.]]\n",
      "[[0. 0. 0. 0. 0. 0.]]\n"
     ]
    }
   ],
   "source": [
    "x=np.zeros((2,3))\n",
    "print(x)\n",
    "\n",
    "reshape=np.reshape(x,(3,2))\n",
    "print(reshape)\n",
    "reshape=np.reshape(x,(1,6))\n",
    "print(reshape)"
   ]
  },
  {
   "cell_type": "code",
   "execution_count": 13,
   "metadata": {},
   "outputs": [
    {
     "name": "stdout",
     "output_type": "stream",
     "text": [
      "[1 0 2 0 0 1 1]\n"
     ]
    }
   ],
   "source": [
    "# Define an array\n",
    "array = np.array([0, 2, 2, 6, 5])\n",
    "\n",
    "# Use bincount\n",
    "count = np.bincount(array)\n",
    "print(count)\n",
    "# Output: [1 0 2 0 0 1 1]"
   ]
  }
 ],
 "metadata": {
  "kernelspec": {
   "display_name": "Python 3",
   "language": "python",
   "name": "python3"
  },
  "language_info": {
   "codemirror_mode": {
    "name": "ipython",
    "version": 3
   },
   "file_extension": ".py",
   "mimetype": "text/x-python",
   "name": "python",
   "nbconvert_exporter": "python",
   "pygments_lexer": "ipython3",
   "version": "3.12.2"
  }
 },
 "nbformat": 4,
 "nbformat_minor": 2
}
